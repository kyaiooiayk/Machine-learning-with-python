{
 "cells": [
  {
   "cell_type": "markdown",
   "metadata": {},
   "source": [
    "# Introduction\n",
    "<hr style=\"border:2px solid black\"> </hr>"
   ]
  },
  {
   "cell_type": "markdown",
   "metadata": {},
   "source": [
    "<div class=\"alert alert-warning\">\n",
    "<font color=black>\n",
    "\n",
    "**What?** Arithmetic, geometric and harmonic means\n",
    "\n",
    "</font>\n",
    "</div>"
   ]
  },
  {
   "cell_type": "markdown",
   "metadata": {},
   "source": [
    "<div class=\"alert alert-info\">\n",
    "<font color=black>\n",
    "\n",
    "- If values have the same units: Use the **arithmetic** mean.\n",
    "- If values have differing units: Use the **geometric** mean.\n",
    "- If values are rates: Use the **harmonic** mean.\n",
    "\n",
    "- **What happens if you have negative values?** Then the geometric and harmonic means cannot be used directly. \n",
    "\n",
    "</font>\n",
    "</div>"
   ]
  },
  {
   "cell_type": "markdown",
   "metadata": {},
   "source": [
    "# Import modules\n",
    "<hr style=\"border:2px solid black\"> </hr>"
   ]
  },
  {
   "cell_type": "code",
   "execution_count": 27,
   "metadata": {},
   "outputs": [],
   "source": [
    "from numpy import mean\n",
    "from scipy.stats import gmean, hmean"
   ]
  },
  {
   "cell_type": "markdown",
   "metadata": {},
   "source": [
    "# Arithmetic mean\n",
    "<hr style=\"border:2px solid black\"> </hr>"
   ]
  },
  {
   "cell_type": "markdown",
   "metadata": {},
   "source": [
    "<div class=\"alert alert-info\">\n",
    "<font color=black>\n",
    "\n",
    "- The arithmetic mean is calculated as the sum of the values divided by the total number of values, referred to as N.\n",
    "- The arithmetic mean is appropriate when all values in the data sample have the same units of measure, e.g. all numbers are heights, or dollars, or miles, etc.\n",
    "- The arithmetic mean is useful in *ML* when summarizing a variable, e.g. reporting the most likely value. This is more meaningful when a variable has a **Gaussian-like** data distribution.\n",
    "\n",
    "</font>\n",
    "</div>"
   ]
  },
  {
   "cell_type": "code",
   "execution_count": 4,
   "metadata": {},
   "outputs": [
    {
     "name": "stdout",
     "output_type": "stream",
     "text": [
      "Arithmetic Mean: 5.500\n"
     ]
    }
   ],
   "source": [
    "# define the dataset\n",
    "data = [1, 2, 3, 4, 5, 6, 7, 8, 9, 10]\n",
    "# calculate the mean\n",
    "result = mean(data)\n",
    "print('Arithmetic Mean: %.3f' % result)"
   ]
  },
  {
   "cell_type": "code",
   "execution_count": 11,
   "metadata": {},
   "outputs": [
    {
     "name": "stdout",
     "output_type": "stream",
     "text": [
      "Arithmetic Mean  5.5\n"
     ]
    }
   ],
   "source": [
    "data = [1, 2, 3, 4, 5, 6, 7, 8, 9, 10]\n",
    "result = 0.0\n",
    "for i in data:\n",
    "    result += i\n",
    "\n",
    "print(\"Arithmetic Mean \", result/len(data))"
   ]
  },
  {
   "cell_type": "markdown",
   "metadata": {},
   "source": [
    "# Geometric mean\n",
    "<hr style=\"border:2px solid black\"> </hr>"
   ]
  },
  {
   "cell_type": "markdown",
   "metadata": {},
   "source": [
    "<div class=\"alert alert-info\">\n",
    "<font color=black>\n",
    "\n",
    "- The geometric mean is calculated as the N-th root of the product of all values, where N is the number of values.\n",
    "- Geometric Mean = `N-root(x1 * x2 * … * xN)`\n",
    "    - For two values, the square root is usede\n",
    "    - For three values, the cube-root is used\n",
    "\n",
    "- The geometric mean is appropriate when the data contains values with different units of measure, e.g. some measure are height, some are dollars, some are miles, etc\n",
    "- **All values must be positive**.\n",
    "- In *ML* is used in the calculation of the so-called G-Mean (geometric mean) metric that is a model evaluation metric that is calculated as the geometric mean of the sensitivity and specificity metrics.\n",
    "\n",
    "</font>\n",
    "</div>"
   ]
  },
  {
   "cell_type": "code",
   "execution_count": 15,
   "metadata": {},
   "outputs": [
    {
     "name": "stdout",
     "output_type": "stream",
     "text": [
      "Geometric Mean: 7.246\n"
     ]
    }
   ],
   "source": [
    "# define the dataset\n",
    "data = [1, 2, 3, 40, 50, 60, 0.7, 0.88, 0.9, 1000]\n",
    "# calculate the mean\n",
    "result = gmean(data)\n",
    "print('Geometric Mean: %.3f' % result)"
   ]
  },
  {
   "cell_type": "code",
   "execution_count": 26,
   "metadata": {},
   "outputs": [
    {
     "name": "stdout",
     "output_type": "stream",
     "text": [
      "Arithmetic Mean  7.246287682155832\n"
     ]
    }
   ],
   "source": [
    "data = [1, 2, 3, 40, 50, 60, 0.7, 0.88, 0.9, 1000]\n",
    "result = 1.0\n",
    "for i in data:\n",
    "    result *= i\n",
    "print(\"Arithmetic Mean \", (result)**(1/len(data)))"
   ]
  },
  {
   "cell_type": "markdown",
   "metadata": {},
   "source": [
    "# Harmonic mean\n",
    "<hr style=\"border:2px solid black\"> </hr>"
   ]
  },
  {
   "cell_type": "markdown",
   "metadata": {},
   "source": [
    "<div class=\"alert alert-info\">\n",
    "<font color=black>\n",
    "\n",
    "- The harmonic mean is calculated as the number of values N divided by the sum of the reciprocal of the values (1 over each value): `Harmonic Mean = N / (1/x1 + 1/x2 + … + 1/xN)`\n",
    "- The harmonic mean is the appropriate mean if the data is comprised of rates. Recall that a rate is the ratio between two quantities with different measures, e.g. speed, acceleration, frequency, etc.\n",
    "- In *ML*, we have rates when evaluating models, such as the true positive rate or the false positive rate in predictions. One common example of the use of the harmonic mean in machine learning is in the calculation of the F-Measure (also the F1-Measure or the Fbeta-Measure); that is a model evaluation metric that is calculated as the harmonic mean of the precision and recall metrics.\n",
    "- The harmonic mean does not take rates with a negative or zero value, e.g. all rates must be positive.\n",
    "\n",
    "</font>\n",
    "</div>"
   ]
  },
  {
   "cell_type": "code",
   "execution_count": 28,
   "metadata": {},
   "outputs": [
    {
     "name": "stdout",
     "output_type": "stream",
     "text": [
      "Harmonic Mean: 0.350\n"
     ]
    }
   ],
   "source": [
    "# define the dataset\n",
    "data = [0.11, 0.22, 0.33, 0.44, 0.55, 0.66, 0.77, 0.88, 0.99]\n",
    "# calculate the mean\n",
    "result = hmean(data)\n",
    "print('Harmonic Mean: %.3f' % result)"
   ]
  },
  {
   "cell_type": "code",
   "execution_count": 29,
   "metadata": {},
   "outputs": [
    {
     "name": "stdout",
     "output_type": "stream",
     "text": [
      "Arithmetic Mean  0.3499509047552251\n"
     ]
    }
   ],
   "source": [
    "data = [0.11, 0.22, 0.33, 0.44, 0.55, 0.66, 0.77, 0.88, 0.99]\n",
    "result = 0.0\n",
    "for i in data:\n",
    "    result += 1/i\n",
    "print(\"Arithmetic Mean \", len(data)/result )"
   ]
  },
  {
   "cell_type": "markdown",
   "metadata": {},
   "source": [
    "# References\n",
    "<hr style=\"border:2px solid black\"> </hr>"
   ]
  },
  {
   "cell_type": "markdown",
   "metadata": {},
   "source": [
    "<div class=\"alert alert-warning\">\n",
    "<font color=black>\n",
    "\n",
    "- https://machinelearningmastery.com/arithmetic-geometric-and-harmonic-means-for-machine-learning/\n",
    "- https://en.wikipedia.org/wiki/Sensitivity_and_specificity\n",
    "\n",
    "</font>\n",
    "</div>"
   ]
  },
  {
   "cell_type": "code",
   "execution_count": null,
   "metadata": {},
   "outputs": [],
   "source": []
  }
 ],
 "metadata": {
  "hide_input": false,
  "kernelspec": {
   "display_name": "trainingAI",
   "language": "python",
   "name": "trainingai"
  },
  "language_info": {
   "codemirror_mode": {
    "name": "ipython",
    "version": 3
   },
   "file_extension": ".py",
   "mimetype": "text/x-python",
   "name": "python",
   "nbconvert_exporter": "python",
   "pygments_lexer": "ipython3",
   "version": "3.8.5"
  }
 },
 "nbformat": 4,
 "nbformat_minor": 2
}
