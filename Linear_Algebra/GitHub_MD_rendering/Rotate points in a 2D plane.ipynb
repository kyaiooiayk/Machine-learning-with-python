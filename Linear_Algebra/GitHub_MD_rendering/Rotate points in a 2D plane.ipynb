{
 "cells": [
  {
   "cell_type": "markdown",
   "metadata": {},
   "source": [
    "# Introduction\n",
    "<hr style=\"border:2px solid black\"> </hr>"
   ]
  },
  {
   "cell_type": "code",
   "execution_count": 14,
   "metadata": {},
   "outputs": [],
   "source": [
    "import matplotlib.pyplot as plt\n",
    "from matplotlib import rcParams\n",
    "import matplotlib as mpl\n",
    "import numpy as np\n",
    "\n",
    "rcParams['figure.figsize'] = 15, 6\n",
    "rcParams['font.size'] = 20"
   ]
  },
  {
   "cell_type": "code",
   "execution_count": 20,
   "metadata": {},
   "outputs": [],
   "source": [
    "import numpy as np\n",
    "import math as m"
   ]
  },
  {
   "cell_type": "code",
   "execution_count": 165,
   "metadata": {},
   "outputs": [],
   "source": [
    "def R2D(theta):\n",
    "    a = np.array([[m.cos(theta), -m.sin(theta)],\n",
    "                     [m.sin(theta), m.cos(theta)]])\n",
    "    \n",
    "    return a"
   ]
  },
  {
   "cell_type": "markdown",
   "metadata": {},
   "source": [
    "# Starting again with a 2D plane"
   ]
  },
  {
   "cell_type": "code",
   "execution_count": 208,
   "metadata": {},
   "outputs": [
    {
     "data": {
      "text/plain": [
       "array([[0, 0],\n",
       "       [0, 1],\n",
       "       [0, 2],\n",
       "       [0, 3],\n",
       "       [1, 0],\n",
       "       [1, 1],\n",
       "       [1, 2],\n",
       "       [1, 3],\n",
       "       [2, 0],\n",
       "       [2, 1],\n",
       "       [2, 2],\n",
       "       [2, 3],\n",
       "       [3, 0],\n",
       "       [3, 1],\n",
       "       [3, 2],\n",
       "       [3, 3]])"
      ]
     },
     "execution_count": 208,
     "metadata": {},
     "output_type": "execute_result"
    }
   ],
   "source": [
    "v = []\n",
    "for i in range(4):\n",
    "    for j in range(4):        \n",
    "              v.append([i,j])\n",
    "v = np.array(v)\n",
    "v"
   ]
  },
  {
   "cell_type": "code",
   "execution_count": 168,
   "metadata": {},
   "outputs": [
    {
     "data": {
      "text/plain": [
       "'\\nPsi angle rotation around z -> xy changes\\nTheta angle rotation around y -> xz changes\\nPhi angle rotation around x -> yz changes\\n'"
      ]
     },
     "execution_count": 168,
     "metadata": {},
     "output_type": "execute_result"
    }
   ],
   "source": [
    "\"\"\"\n",
    "Psi angle rotation around z -> xy changes\n",
    "Theta angle rotation around y -> xz changes\n",
    "Phi angle rotation around x -> yz changes\n",
    "\"\"\""
   ]
  },
  {
   "cell_type": "code",
   "execution_count": 200,
   "metadata": {},
   "outputs": [
    {
     "name": "stdout",
     "output_type": "stream",
     "text": [
      "theta  = 0.7853981633974483\n"
     ]
    },
    {
     "data": {
      "text/plain": [
       "array([[ 0.70710678, -0.70710678],\n",
       "       [ 0.70710678,  0.70710678]])"
      ]
     },
     "execution_count": 200,
     "metadata": {},
     "output_type": "execute_result"
    }
   ],
   "source": [
    "angleInDegreeTheta = 45\n",
    "theta = np.radians(angleInDegreeTheta)\n",
    "print(\"theta  =\", theta)\n",
    "  \n",
    "R2D(theta)"
   ]
  },
  {
   "cell_type": "code",
   "execution_count": 201,
   "metadata": {},
   "outputs": [
    {
     "data": {
      "text/plain": [
       "numpy.ndarray"
      ]
     },
     "execution_count": 201,
     "metadata": {},
     "output_type": "execute_result"
    }
   ],
   "source": [
    "type(R2D(theta))"
   ]
  },
  {
   "cell_type": "code",
   "execution_count": 202,
   "metadata": {},
   "outputs": [
    {
     "data": {
      "text/plain": [
       "array([0, 1])"
      ]
     },
     "execution_count": 202,
     "metadata": {},
     "output_type": "execute_result"
    }
   ],
   "source": [
    "v[1]"
   ]
  },
  {
   "cell_type": "code",
   "execution_count": 203,
   "metadata": {},
   "outputs": [
    {
     "name": "stdout",
     "output_type": "stream",
     "text": [
      "16\n",
      "[0 0] [0. 0.]\n",
      "[0 1] [-0.70710678  0.70710678]\n",
      "[0 2] [-1.41421356  1.41421356]\n",
      "[0 3] [-2.12132034  2.12132034]\n",
      "[1 0] [0.70710678 0.70710678]\n",
      "[1 1] [1.11022302e-16 1.41421356e+00]\n",
      "[1 2] [-0.70710678  2.12132034]\n",
      "[1 3] [-1.41421356  2.82842712]\n",
      "[2 0] [1.41421356 1.41421356]\n",
      "[2 1] [0.70710678 2.12132034]\n",
      "[2 2] [2.22044605e-16 2.82842712e+00]\n",
      "[2 3] [-0.70710678  3.53553391]\n",
      "[3 0] [2.12132034 2.12132034]\n",
      "[3 1] [1.41421356 2.82842712]\n",
      "[3 2] [0.70710678 3.53553391]\n",
      "[3 3] [4.44089210e-16 4.24264069e+00]\n"
     ]
    }
   ],
   "source": [
    "v1 = []\n",
    "print(len(v))\n",
    "for i in range(len(v)):\n",
    "    print(v[i], np.dot(R2D(theta), v[i]))    \n",
    "    v1.append(np.dot(R2D(theta), v[i]))"
   ]
  },
  {
   "cell_type": "code",
   "execution_count": 204,
   "metadata": {
    "cell_style": "split"
   },
   "outputs": [
    {
     "data": {
      "text/plain": [
       "array([[0, 0],\n",
       "       [0, 1],\n",
       "       [0, 2],\n",
       "       [0, 3],\n",
       "       [1, 0],\n",
       "       [1, 1],\n",
       "       [1, 2],\n",
       "       [1, 3],\n",
       "       [2, 0],\n",
       "       [2, 1],\n",
       "       [2, 2],\n",
       "       [2, 3],\n",
       "       [3, 0],\n",
       "       [3, 1],\n",
       "       [3, 2],\n",
       "       [3, 3]])"
      ]
     },
     "execution_count": 204,
     "metadata": {},
     "output_type": "execute_result"
    }
   ],
   "source": [
    "v"
   ]
  },
  {
   "cell_type": "code",
   "execution_count": 205,
   "metadata": {
    "cell_style": "split",
    "scrolled": false
   },
   "outputs": [
    {
     "data": {
      "text/plain": [
       "[array([0., 0.]),\n",
       " array([-0.70710678,  0.70710678]),\n",
       " array([-1.41421356,  1.41421356]),\n",
       " array([-2.12132034,  2.12132034]),\n",
       " array([0.70710678, 0.70710678]),\n",
       " array([1.11022302e-16, 1.41421356e+00]),\n",
       " array([-0.70710678,  2.12132034]),\n",
       " array([-1.41421356,  2.82842712]),\n",
       " array([1.41421356, 1.41421356]),\n",
       " array([0.70710678, 2.12132034]),\n",
       " array([2.22044605e-16, 2.82842712e+00]),\n",
       " array([-0.70710678,  3.53553391]),\n",
       " array([2.12132034, 2.12132034]),\n",
       " array([1.41421356, 2.82842712]),\n",
       " array([0.70710678, 3.53553391]),\n",
       " array([4.44089210e-16, 4.24264069e+00])]"
      ]
     },
     "execution_count": 205,
     "metadata": {},
     "output_type": "execute_result"
    }
   ],
   "source": [
    "v1"
   ]
  },
  {
   "cell_type": "code",
   "execution_count": 206,
   "metadata": {},
   "outputs": [],
   "source": [
    "vx, vy = [], []\n",
    "v1x, v1y = [], []\n",
    "for i in range(len(v)):\n",
    "    vx.append(v[i][0])\n",
    "    vy.append(v[i][1])\n",
    "        \n",
    "    v1x.append(v1[i][0])\n",
    "    v1y.append(v1[i][1])\n"
   ]
  },
  {
   "cell_type": "code",
   "execution_count": 207,
   "metadata": {
    "cell_style": "center"
   },
   "outputs": [
    {
     "data": {
      "image/png": "[encoded data removed]",
      "text/plain": [
       "<Figure size 1080x432 with 1 Axes>"
      ]
     },
     "metadata": {
      "needs_background": "light"
     },
     "output_type": "display_data"
    }
   ],
   "source": [
    "fig = plt.figure()\n",
    "ax = fig.add_subplot()\n",
    "plt.plot(vx, vy, \"ks\")\n",
    "plt.plot(v1x, v1y, \"rx\")\n",
    "ax.set_aspect('equal')"
   ]
  },
  {
   "cell_type": "code",
   "execution_count": null,
   "metadata": {},
   "outputs": [],
   "source": [
    "v = []\n",
    "for i in range(4):\n",
    "    for j in range(4):        \n",
    "              v.append([i,j])\n",
    "v = np.array(v)\n",
    "v"
   ]
  },
  {
   "cell_type": "markdown",
   "metadata": {},
   "source": [
    "# References\n",
    "<hr style=\"border:2px solid black\"> </hr>"
   ]
  },
  {
   "cell_type": "code",
   "execution_count": null,
   "metadata": {},
   "outputs": [],
   "source": [
    "https://www.meccanismocomplesso.org/en/3d-rotations-and-euler-angles-in-python/"
   ]
  }
 ],
 "metadata": {
  "hide_input": false,
  "kernelspec": {
   "display_name": "trainingAI",
   "language": "python",
   "name": "trainingai"
  },
  "language_info": {
   "codemirror_mode": {
    "name": "ipython",
    "version": 3
   },
   "file_extension": ".py",
   "mimetype": "text/x-python",
   "name": "python",
   "nbconvert_exporter": "python",
   "pygments_lexer": "ipython3",
   "version": "3.8.5"
  }
 },
 "nbformat": 4,
 "nbformat_minor": 2
}
